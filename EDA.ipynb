{
 "cells": [
  {
   "cell_type": "markdown",
   "metadata": {},
   "source": [
    "# Exploratory Data Analysis"
   ]
  },
  {
   "cell_type": "markdown",
   "metadata": {},
   "source": [
    "Import appropriate libraries"
   ]
  },
  {
   "cell_type": "code",
   "execution_count": 1,
   "metadata": {},
   "outputs": [],
   "source": [
    "import numpy as np\n",
    "import pandas as pd"
   ]
  },
  {
   "cell_type": "markdown",
   "metadata": {},
   "source": [
    "Load the training dataset"
   ]
  },
  {
   "cell_type": "code",
   "execution_count": 37,
   "metadata": {},
   "outputs": [],
   "source": [
    "dataset = pd.read_csv('training.csv', quoting = 3)"
   ]
  },
  {
   "cell_type": "markdown",
   "metadata": {},
   "source": [
    "Inspect training data"
   ]
  },
  {
   "cell_type": "code",
   "execution_count": 38,
   "metadata": {},
   "outputs": [
    {
     "name": "stdout",
     "output_type": "stream",
     "text": [
      "['geohash6', 'day', 'timestamp', 'demand']\n",
      "  geohash6  day timestamp    demand\n",
      "0   qp03wc   18      20:0  0.020072\n",
      "1   qp03pn   10     14:30  0.024721\n",
      "2   qp09sw    9      6:15  0.102821\n",
      "3   qp0991   32       5:0  0.088755\n",
      "4   qp090q   15       4:0  0.074468\n",
      "4206321\n"
     ]
    }
   ],
   "source": [
    "print(list(dataset))\n",
    "print(dataset.head())\n",
    "print(dataset.describe())\n",
    "print(dataset.shape[0])"
   ]
  },
  {
   "cell_type": "markdown",
   "metadata": {},
   "source": [
    "Check if there is any Null values in the dataset"
   ]
  },
  {
   "cell_type": "code",
   "execution_count": 39,
   "metadata": {},
   "outputs": [
    {
     "data": {
      "text/plain": [
       "False"
      ]
     },
     "execution_count": 39,
     "metadata": {},
     "output_type": "execute_result"
    }
   ],
   "source": [
    "dataset.isnull().values.any()"
   ]
  },
  {
   "cell_type": "markdown",
   "metadata": {},
   "source": [
    "Test decoding geohash6 value"
   ]
  },
  {
   "cell_type": "code",
   "execution_count": 40,
   "metadata": {},
   "outputs": [
    {
     "name": "stdout",
     "output_type": "stream",
     "text": [
      "geohash = qp03wc , latitude = -5.35308837890625 , longitude = 90.6536865234375\n",
      "geohash = qp03pn , latitude = -5.41351318359375 , longitude = 90.6646728515625\n",
      "geohash = qp09sw , latitude = -5.32562255859375 , longitude = 90.9063720703125\n"
     ]
    }
   ],
   "source": [
    "import geohash\n",
    "\n",
    "latitude, longitude = geohash.decode(dataset[\"geohash6\"].values[0])\n",
    "print(\"geohash =\", dataset[\"geohash6\"].values[0], \", latitude =\", latitude, \", longitude =\", longitude)\n",
    "\n",
    "latitude, longitude = geohash.decode(dataset[\"geohash6\"].values[1])\n",
    "print(\"geohash =\", dataset[\"geohash6\"].values[1], \", latitude =\", latitude, \", longitude =\", longitude)\n",
    "\n",
    "latitude, longitude = geohash.decode(dataset[\"geohash6\"].values[2])\n",
    "print(\"geohash =\", dataset[\"geohash6\"].values[2], \", latitude =\", latitude, \", longitude =\", longitude)"
   ]
  },
  {
   "cell_type": "markdown",
   "metadata": {},
   "source": [
    "Decode the geohash into longitude and latitude and save them into the dataset"
   ]
  },
  {
   "cell_type": "code",
   "execution_count": 41,
   "metadata": {},
   "outputs": [
    {
     "name": "stdout",
     "output_type": "stream",
     "text": [
      "4206321\n",
      "4206321\n",
      "['geohash6', 'day', 'timestamp', 'demand', 'latitude', 'longitude']\n"
     ]
    }
   ],
   "source": [
    "longitude = []\n",
    "latitude = []\n",
    "\n",
    "for g in dataset[\"geohash6\"].values:\n",
    "    la, lo = geohash.decode(g)\n",
    "    latitude.append(la)\n",
    "    longitude.append(lo)\n",
    "    \n",
    "dataset[\"latitude\"] = latitude\n",
    "dataset[\"longitude\"] = longitude\n",
    "\n",
    "print(len(latitude))\n",
    "print(len(longitude))\n",
    "print(list(dataset))"
   ]
  },
  {
   "cell_type": "markdown",
   "metadata": {},
   "source": [
    "Check the max and min for day"
   ]
  },
  {
   "cell_type": "code",
   "execution_count": 42,
   "metadata": {},
   "outputs": [
    {
     "name": "stdout",
     "output_type": "stream",
     "text": [
      "1\n",
      "61\n"
     ]
    }
   ],
   "source": [
    "print(dataset['day'].min())\n",
    "print(dataset['day'].max())"
   ]
  },
  {
   "cell_type": "markdown",
   "metadata": {},
   "source": [
    "Check if all the days are present"
   ]
  },
  {
   "cell_type": "code",
   "execution_count": 43,
   "metadata": {},
   "outputs": [
    {
     "name": "stdout",
     "output_type": "stream",
     "text": [
      "[1, 2, 3, 4, 5, 6, 7, 8, 9, 10, 11, 12, 13, 14, 15, 16, 17, 18, 19, 20, 21, 22, 23, 24, 25, 26, 27, 28, 29, 30, 31, 32, 33, 34, 35, 36, 37, 38, 39, 40, 41, 42, 43, 44, 45, 46, 47, 48, 49, 50, 51, 52, 53, 54, 55, 56, 57, 58, 59, 60, 61]\n"
     ]
    }
   ],
   "source": [
    "uniquedays = dataset['day'].unique().tolist()\n",
    "uniquedays.sort()\n",
    "print(uniquedays)"
   ]
  },
  {
   "cell_type": "markdown",
   "metadata": {},
   "source": [
    "Check the max and min for demand"
   ]
  },
  {
   "cell_type": "code",
   "execution_count": 44,
   "metadata": {},
   "outputs": [
    {
     "name": "stdout",
     "output_type": "stream",
     "text": [
      "3.0922172375050822e-09\n",
      "1.0\n"
     ]
    }
   ],
   "source": [
    "print(dataset['demand'].min())\n",
    "print(dataset['demand'].max())"
   ]
  },
  {
   "cell_type": "markdown",
   "metadata": {},
   "source": [
    "There is no 0 in demand, as it was mentioned in the FAQ, that all missing data should be treated as 0."
   ]
  },
  {
   "cell_type": "markdown",
   "metadata": {},
   "source": [
    "As each timestamp are separated by 15-min interval, check if all the timestamps from 00:00 to 23:45 are present"
   ]
  },
  {
   "cell_type": "code",
   "execution_count": 45,
   "metadata": {},
   "outputs": [
    {
     "name": "stdout",
     "output_type": "stream",
     "text": [
      "['0:0', '0:15', '0:30', '0:45', '10:0', '10:15', '10:30', '10:45', '11:0', '11:15', '11:30', '11:45', '12:0', '12:15', '12:30', '12:45', '13:0', '13:15', '13:30', '13:45', '14:0', '14:15', '14:30', '14:45', '15:0', '15:15', '15:30', '15:45', '16:0', '16:15', '16:30', '16:45', '17:0', '17:15', '17:30', '17:45', '18:0', '18:15', '18:30', '18:45', '19:0', '19:15', '19:30', '19:45', '1:0', '1:15', '1:30', '1:45', '20:0', '20:15', '20:30', '20:45', '21:0', '21:15', '21:30', '21:45', '22:0', '22:15', '22:30', '22:45', '23:0', '23:15', '23:30', '23:45', '2:0', '2:15', '2:30', '2:45', '3:0', '3:15', '3:30', '3:45', '4:0', '4:15', '4:30', '4:45', '5:0', '5:15', '5:30', '5:45', '6:0', '6:15', '6:30', '6:45', '7:0', '7:15', '7:30', '7:45', '8:0', '8:15', '8:30', '8:45', '9:0', '9:15', '9:30', '9:45']\n",
      "96\n"
     ]
    }
   ],
   "source": [
    "uniquetime = dataset['timestamp'].unique().tolist()\n",
    "uniquetime.sort()\n",
    "print(uniquetime)\n",
    "print(len(uniquetime))"
   ]
  },
  {
   "cell_type": "markdown",
   "metadata": {},
   "source": [
    "As the timestamp are strings, it would be easier to process it later if we normalize it to a increasing integer starting from 0. We can also do the same normalization across the whole 61 days. We can save the normalized values back into the dataset for future usage."
   ]
  },
  {
   "cell_type": "code",
   "execution_count": 46,
   "metadata": {},
   "outputs": [
    {
     "name": "stdout",
     "output_type": "stream",
     "text": [
      "4206321\n",
      "4206321\n",
      "['geohash6', 'day', 'timestamp', 'demand', 'latitude', 'longitude', 'normalizedTime', 'normalizedDayTime']\n"
     ]
    }
   ],
   "source": [
    "row = dataset.shape[0]\n",
    "\n",
    "normalizedTime = []\n",
    "normalizedDayTime = []\n",
    "\n",
    "for i in range(row):\n",
    "    time = dataset[\"timestamp\"][i].split(\":\")\n",
    "    a = (int(time[0]) * 4) + (int(time[1]) / 15)\n",
    "    normalizedTime.append(a)\n",
    "    b = (dataset[\"day\"][i]-1) * len(uniquetime) + a\n",
    "    normalizedDayTime.append(b)\n",
    "\n",
    "dataset[\"normalizedTime\"] = normalizedTime\n",
    "dataset[\"normalizedDayTime\"] = normalizedDayTime\n",
    "\n",
    "print(len(normalizedTime))\n",
    "print(len(normalizedDayTime))\n",
    "print(list(dataset))"
   ]
  },
  {
   "cell_type": "markdown",
   "metadata": {},
   "source": [
    "Check how many unique latitudes and longitudes are there"
   ]
  },
  {
   "cell_type": "code",
   "execution_count": 47,
   "metadata": {},
   "outputs": [
    {
     "name": "stdout",
     "output_type": "stream",
     "text": [
      "[-5.48492431640625, -5.47943115234375, -5.47393798828125, -5.46844482421875, -5.46295166015625, -5.45745849609375, -5.45196533203125, -5.44647216796875, -5.44097900390625, -5.43548583984375, -5.42999267578125, -5.42449951171875, -5.41900634765625, -5.41351318359375, -5.40802001953125, -5.40252685546875, -5.39703369140625, -5.39154052734375, -5.38604736328125, -5.38055419921875, -5.37506103515625, -5.36956787109375, -5.36407470703125, -5.35858154296875, -5.35308837890625, -5.34759521484375, -5.34210205078125, -5.33660888671875, -5.33111572265625, -5.32562255859375, -5.32012939453125, -5.31463623046875, -5.30914306640625, -5.30364990234375, -5.29815673828125, -5.29266357421875, -5.28717041015625, -5.28167724609375, -5.27618408203125, -5.27069091796875, -5.26519775390625, -5.25970458984375, -5.25421142578125, -5.24871826171875, -5.24322509765625, -5.23773193359375]\n",
      "[90.5877685546875, 90.5987548828125, 90.6097412109375, 90.6207275390625, 90.6317138671875, 90.6427001953125, 90.6536865234375, 90.6646728515625, 90.6756591796875, 90.6866455078125, 90.6976318359375, 90.7086181640625, 90.7196044921875, 90.7305908203125, 90.7415771484375, 90.7525634765625, 90.7635498046875, 90.7745361328125, 90.7855224609375, 90.7965087890625, 90.8074951171875, 90.8184814453125, 90.8294677734375, 90.8404541015625, 90.8514404296875, 90.8624267578125, 90.8734130859375, 90.8843994140625, 90.8953857421875, 90.9063720703125, 90.9173583984375, 90.9283447265625, 90.9393310546875, 90.9503173828125, 90.9613037109375, 90.9722900390625]\n"
     ]
    }
   ],
   "source": [
    "uniquelatitude = dataset['latitude'].unique().tolist()\n",
    "uniquelatitude.sort()\n",
    "print(uniquelatitude)\n",
    "\n",
    "uniquelongitude = dataset['longitude'].unique().tolist()\n",
    "uniquelongitude.sort()\n",
    "print(uniquelongitude)"
   ]
  },
  {
   "cell_type": "markdown",
   "metadata": {},
   "source": [
    "Check the numbers of unique latitudes and unique longitudes"
   ]
  },
  {
   "cell_type": "code",
   "execution_count": 48,
   "metadata": {},
   "outputs": [
    {
     "name": "stdout",
     "output_type": "stream",
     "text": [
      "46\n",
      "36\n"
     ]
    }
   ],
   "source": [
    "numlatitude = len(uniquelatitude)\n",
    "print(numlatitude)\n",
    "\n",
    "numlongitude = len(uniquelongitude)\n",
    "print(numlongitude)"
   ]
  },
  {
   "cell_type": "markdown",
   "metadata": {},
   "source": [
    "Check if the different geohashes in the training datasets are actually adjacent to each other, that is to check if all unique latitudes and longitudes have same differences"
   ]
  },
  {
   "cell_type": "code",
   "execution_count": 49,
   "metadata": {},
   "outputs": [
    {
     "name": "stdout",
     "output_type": "stream",
     "text": [
      "0.0054931640625\n",
      "0.0054931640625\n",
      "0.0054931640625\n",
      "0.0054931640625\n",
      "0.0054931640625\n",
      "0.0054931640625\n",
      "0.0054931640625\n",
      "0.0054931640625\n",
      "0.0054931640625\n",
      "0.0054931640625\n",
      "0.0054931640625\n",
      "0.0054931640625\n",
      "0.0054931640625\n",
      "0.0054931640625\n",
      "0.0054931640625\n",
      "0.0054931640625\n",
      "0.0054931640625\n",
      "0.0054931640625\n",
      "0.0054931640625\n",
      "0.0054931640625\n",
      "0.0054931640625\n",
      "0.0054931640625\n",
      "0.0054931640625\n",
      "0.0054931640625\n",
      "0.0054931640625\n",
      "0.0054931640625\n",
      "0.0054931640625\n",
      "0.0054931640625\n",
      "0.0054931640625\n",
      "0.0054931640625\n",
      "0.0054931640625\n",
      "0.0054931640625\n",
      "0.0054931640625\n",
      "0.0054931640625\n",
      "0.0054931640625\n",
      "0.0054931640625\n",
      "0.0054931640625\n",
      "0.0054931640625\n",
      "0.0054931640625\n",
      "0.0054931640625\n",
      "0.0054931640625\n",
      "0.0054931640625\n",
      "0.0054931640625\n",
      "0.0054931640625\n",
      "0.0054931640625\n"
     ]
    }
   ],
   "source": [
    "for i in range(len(uniquelatitude)-1):\n",
    "    diff = uniquelatitude[i+1] - uniquelatitude[i]\n",
    "    print(diff)"
   ]
  },
  {
   "cell_type": "code",
   "execution_count": 50,
   "metadata": {},
   "outputs": [
    {
     "name": "stdout",
     "output_type": "stream",
     "text": [
      "0.010986328125\n",
      "0.010986328125\n",
      "0.010986328125\n",
      "0.010986328125\n",
      "0.010986328125\n",
      "0.010986328125\n",
      "0.010986328125\n",
      "0.010986328125\n",
      "0.010986328125\n",
      "0.010986328125\n",
      "0.010986328125\n",
      "0.010986328125\n",
      "0.010986328125\n",
      "0.010986328125\n",
      "0.010986328125\n",
      "0.010986328125\n",
      "0.010986328125\n",
      "0.010986328125\n",
      "0.010986328125\n",
      "0.010986328125\n",
      "0.010986328125\n",
      "0.010986328125\n",
      "0.010986328125\n",
      "0.010986328125\n",
      "0.010986328125\n",
      "0.010986328125\n",
      "0.010986328125\n",
      "0.010986328125\n",
      "0.010986328125\n",
      "0.010986328125\n",
      "0.010986328125\n",
      "0.010986328125\n",
      "0.010986328125\n",
      "0.010986328125\n",
      "0.010986328125\n"
     ]
    }
   ],
   "source": [
    "for i in range(len(uniquelongitude)-1):\n",
    "    diff = uniquelongitude[i+1] - uniquelongitude[i]\n",
    "    print(diff)"
   ]
  },
  {
   "cell_type": "markdown",
   "metadata": {},
   "source": [
    "Since all the sorted latitudes and longitudes have the same differences between each units, that means we can also normalize the latitudes and longitudes into X and Y coordinates"
   ]
  },
  {
   "cell_type": "code",
   "execution_count": 53,
   "metadata": {},
   "outputs": [
    {
     "name": "stdout",
     "output_type": "stream",
     "text": [
      "['geohash6', 'day', 'timestamp', 'demand', 'latitude', 'longitude', 'normalizedTime', 'normalizedDayTime', 'Xcoord', 'Ycoord']\n"
     ]
    }
   ],
   "source": [
    "difflatitude = uniquelatitude[1] - uniquelatitude[0]\n",
    "minlatitude = uniquelatitude[0]\n",
    "\n",
    "difflongitude = uniquelongitude[1] - uniquelongitude[0]\n",
    "minlongitude = uniquelongitude[0]\n",
    "\n",
    "Xcoord = (dataset['longitude'].values - minlongitude) / difflongitude\n",
    "Ycoord = (dataset['latitude'].values - minlatitude) / difflatitude\n",
    "\n",
    "dataset[\"Xcoord\"] = Xcoord\n",
    "dataset[\"Ycoord\"] = Ycoord\n",
    "\n",
    "print(list(dataset))"
   ]
  },
  {
   "cell_type": "markdown",
   "metadata": {},
   "source": [
    "Convert day into day of week by modulus the day number by 7"
   ]
  },
  {
   "cell_type": "code",
   "execution_count": 54,
   "metadata": {},
   "outputs": [
    {
     "name": "stdout",
     "output_type": "stream",
     "text": [
      "['geohash6', 'day', 'timestamp', 'demand', 'latitude', 'longitude', 'normalizedTime', 'normalizedDayTime', 'Xcoord', 'Ycoord', 'dayOfWeek']\n"
     ]
    }
   ],
   "source": [
    "dayofweek = dataset['day'].values % 7\n",
    "dataset[\"dayOfWeek\"] = dayofweek\n",
    "\n",
    "print(list(dataset))"
   ]
  },
  {
   "cell_type": "markdown",
   "metadata": {},
   "source": [
    "Check the frequency of each unique values in each columns"
   ]
  },
  {
   "cell_type": "code",
   "execution_count": 56,
   "metadata": {},
   "outputs": [
    {
     "name": "stdout",
     "output_type": "stream",
     "text": [
      "{'geohash6': qp03xw    5846\n",
      "qp03yb    5846\n",
      "qp03wf    5846\n",
      "qp03wz    5846\n",
      "qp0987    5845\n",
      "qp03xm    5845\n",
      "qp03qg    5845\n",
      "qp03w9    5845\n",
      "qp03wg    5845\n",
      "qp092m    5845\n",
      "qp03zv    5845\n",
      "qp03qm    5845\n",
      "qp03xx    5845\n",
      "qp09e5    5845\n",
      "qp098j    5844\n",
      "qp03qf    5844\n",
      "qp03xh    5844\n",
      "qp03xy    5844\n",
      "qp03z0    5844\n",
      "qp03zt    5844\n",
      "qp09bh    5844\n",
      "qp03xz    5844\n",
      "qp092n    5844\n",
      "qp03wy    5844\n",
      "qp03xs    5844\n",
      "qp03pr    5844\n",
      "qp03xv    5844\n",
      "qp03wu    5844\n",
      "qp098k    5844\n",
      "qp098n    5844\n",
      "          ... \n",
      "qp09kg       6\n",
      "qp09by       6\n",
      "qp06nw       5\n",
      "qp09n5       5\n",
      "qp09v5       5\n",
      "qp09m7       5\n",
      "qp09h3       4\n",
      "qp0d5k       4\n",
      "qp09dz       4\n",
      "qp08g5       4\n",
      "qp09wn       4\n",
      "qp09w1       4\n",
      "qp09te       2\n",
      "qp02yu       2\n",
      "qp09m6       2\n",
      "qp091h       2\n",
      "qp0919       2\n",
      "qp09s5       2\n",
      "qp09nj       2\n",
      "qp09eg       2\n",
      "qp091j       1\n",
      "qp09t7       1\n",
      "qp09mv       1\n",
      "qp0d45       1\n",
      "qp0d4m       1\n",
      "qp09tg       1\n",
      "qp08fs       1\n",
      "qp09v9       1\n",
      "qp03yn       1\n",
      "qp092b       1\n",
      "Name: geohash6, Length: 1329, dtype: int64, 'day': 39    76097\n",
      "45    75671\n",
      "60    75409\n",
      "44    74666\n",
      "42    73771\n",
      "61    73615\n",
      "43    73455\n",
      "53    73288\n",
      "38    72800\n",
      "4     72609\n",
      "37    72201\n",
      "32    71966\n",
      "46    71869\n",
      "52    71818\n",
      "59    71623\n",
      "8     71321\n",
      "16    71234\n",
      "40    71225\n",
      "31    71102\n",
      "56    70958\n",
      "51    70906\n",
      "2     70452\n",
      "7     70375\n",
      "25    70271\n",
      "57    70087\n",
      "35    70008\n",
      "3     69966\n",
      "58    69966\n",
      "50    69893\n",
      "36    69747\n",
      "      ...  \n",
      "54    69300\n",
      "15    69292\n",
      "49    69279\n",
      "17    68793\n",
      "14    68716\n",
      "30    68629\n",
      "47    68379\n",
      "24    68311\n",
      "41    68000\n",
      "1     67627\n",
      "5     67279\n",
      "55    67260\n",
      "23    67114\n",
      "33    66790\n",
      "28    66668\n",
      "11    66406\n",
      "21    65958\n",
      "34    65552\n",
      "6     65496\n",
      "26    65404\n",
      "22    65350\n",
      "12    65064\n",
      "9     64113\n",
      "29    63646\n",
      "13    63498\n",
      "10    63483\n",
      "19    63426\n",
      "27    62911\n",
      "20    61910\n",
      "18    54871\n",
      "Name: day, Length: 61, dtype: int64, 'timestamp': 9:0      57281\n",
      "9:15     56983\n",
      "4:30     56672\n",
      "5:0      56571\n",
      "4:45     56493\n",
      "4:15     56313\n",
      "8:45     56210\n",
      "4:0      56158\n",
      "5:15     56088\n",
      "6:0      56023\n",
      "5:45     55999\n",
      "9:30     55911\n",
      "5:30     55881\n",
      "9:45     55867\n",
      "10:0     55811\n",
      "6:15     55718\n",
      "3:45     55689\n",
      "6:30     55676\n",
      "8:30     55555\n",
      "3:30     55425\n",
      "7:0      55385\n",
      "8:0      55303\n",
      "6:45     55296\n",
      "10:15    55265\n",
      "7:15     55042\n",
      "8:15     54981\n",
      "7:30     54963\n",
      "7:45     54894\n",
      "3:15     54889\n",
      "10:30    54813\n",
      "         ...  \n",
      "15:30    37948\n",
      "22:45    36998\n",
      "15:45    36179\n",
      "16:0     34214\n",
      "22:30    34000\n",
      "16:15    32296\n",
      "22:15    31183\n",
      "16:30    30267\n",
      "22:0     28765\n",
      "16:45    28366\n",
      "17:0     27064\n",
      "21:45    25910\n",
      "17:15    25564\n",
      "21:30    24625\n",
      "17:30    23962\n",
      "21:15    23157\n",
      "17:45    22589\n",
      "21:0     21865\n",
      "18:0     21851\n",
      "18:15    20839\n",
      "20:45    20086\n",
      "18:30    19751\n",
      "20:30    19334\n",
      "20:15    18823\n",
      "19:0     18768\n",
      "18:45    18720\n",
      "20:0     18611\n",
      "19:15    18144\n",
      "19:30    17974\n",
      "19:45    17720\n",
      "Name: timestamp, Length: 96, dtype: int64, 'demand': 1.000000    42458\n",
      "0.014212        1\n",
      "0.211792        1\n",
      "0.097767        1\n",
      "0.035171        1\n",
      "0.048253        1\n",
      "0.011426        1\n",
      "0.041255        1\n",
      "0.069633        1\n",
      "0.157080        1\n",
      "0.129736        1\n",
      "0.134882        1\n",
      "0.162461        1\n",
      "0.069504        1\n",
      "0.002750        1\n",
      "0.242152        1\n",
      "0.007786        1\n",
      "0.019605        1\n",
      "0.007523        1\n",
      "0.055426        1\n",
      "0.005086        1\n",
      "0.015707        1\n",
      "0.140524        1\n",
      "0.016797        1\n",
      "0.105007        1\n",
      "0.030943        1\n",
      "0.627832        1\n",
      "0.525409        1\n",
      "0.050126        1\n",
      "0.029374        1\n",
      "            ...  \n",
      "0.271933        1\n",
      "0.037397        1\n",
      "0.015712        1\n",
      "0.048667        1\n",
      "0.044906        1\n",
      "0.303726        1\n",
      "0.214132        1\n",
      "0.019518        1\n",
      "0.041216        1\n",
      "0.004909        1\n",
      "0.239734        1\n",
      "0.018484        1\n",
      "0.355476        1\n",
      "0.887296        1\n",
      "0.429554        1\n",
      "0.027152        1\n",
      "0.074873        1\n",
      "0.040945        1\n",
      "0.010333        1\n",
      "0.195810        1\n",
      "0.081813        1\n",
      "0.000595        1\n",
      "0.008576        1\n",
      "0.462481        1\n",
      "0.002332        1\n",
      "0.179910        1\n",
      "0.461205        1\n",
      "0.079691        1\n",
      "0.266964        1\n",
      "0.036524        1\n",
      "Name: demand, Length: 4163864, dtype: int64, 'latitude': -5.342102    152945\n",
      "-5.347595    151338\n",
      "-5.358582    145891\n",
      "-5.353088    141807\n",
      "-5.336609    141251\n",
      "-5.331116    138602\n",
      "-5.320129    136930\n",
      "-5.287170    133990\n",
      "-5.325623    133161\n",
      "-5.402527    132622\n",
      "-5.369568    131819\n",
      "-5.364075    131601\n",
      "-5.375061    127127\n",
      "-5.380554    125205\n",
      "-5.408020    123149\n",
      "-5.413513    121365\n",
      "-5.386047    121196\n",
      "-5.314636    117137\n",
      "-5.397034    116885\n",
      "-5.391541    115592\n",
      "-5.292664    115436\n",
      "-5.298157    108445\n",
      "-5.281677    108398\n",
      "-5.303650    105754\n",
      "-5.309143    103884\n",
      "-5.270691     87441\n",
      "-5.276184     85077\n",
      "-5.419006     75909\n",
      "-5.265198     74698\n",
      "-5.254211     67299\n",
      "-5.259705     64014\n",
      "-5.237732     60072\n",
      "-5.248718     57772\n",
      "-5.446472     53577\n",
      "-5.424500     51996\n",
      "-5.243225     50804\n",
      "-5.429993     47989\n",
      "-5.451965     47818\n",
      "-5.440979     43552\n",
      "-5.457458     42692\n",
      "-5.435486     31650\n",
      "-5.462952     31022\n",
      "-5.468445     21977\n",
      "-5.473938     13181\n",
      "-5.479431     10168\n",
      "-5.484924      6083\n",
      "Name: latitude, dtype: int64, 'longitude': 90.686646    205074\n",
      "90.708618    200358\n",
      "90.697632    192127\n",
      "90.675659    185852\n",
      "90.719604    184161\n",
      "90.664673    180653\n",
      "90.653687    168882\n",
      "90.818481    151447\n",
      "90.642700    148580\n",
      "90.829468    139145\n",
      "90.906372    138224\n",
      "90.851440    135228\n",
      "90.807495    133186\n",
      "90.862427    127530\n",
      "90.730591    125779\n",
      "90.785522    124526\n",
      "90.873413    122213\n",
      "90.840454    120153\n",
      "90.631714    120046\n",
      "90.796509    118389\n",
      "90.917358    109785\n",
      "90.928345    100394\n",
      "90.884399     99041\n",
      "90.895386     96414\n",
      "90.774536     95651\n",
      "90.609741     95023\n",
      "90.763550     86435\n",
      "90.620728     86042\n",
      "90.939331     81918\n",
      "90.598755     78205\n",
      "90.752563     57851\n",
      "90.587769     55179\n",
      "90.950317     51560\n",
      "90.741577     35367\n",
      "90.972290     33408\n",
      "90.961304     22495\n",
      "Name: longitude, dtype: int64, 'normalizedTime': 36.0    57281\n",
      "37.0    56983\n",
      "18.0    56672\n",
      "20.0    56571\n",
      "19.0    56493\n",
      "17.0    56313\n",
      "35.0    56210\n",
      "16.0    56158\n",
      "21.0    56088\n",
      "24.0    56023\n",
      "23.0    55999\n",
      "38.0    55911\n",
      "22.0    55881\n",
      "39.0    55867\n",
      "40.0    55811\n",
      "25.0    55718\n",
      "15.0    55689\n",
      "26.0    55676\n",
      "34.0    55555\n",
      "14.0    55425\n",
      "28.0    55385\n",
      "32.0    55303\n",
      "27.0    55296\n",
      "41.0    55265\n",
      "29.0    55042\n",
      "33.0    54981\n",
      "30.0    54963\n",
      "31.0    54894\n",
      "13.0    54889\n",
      "42.0    54813\n",
      "        ...  \n",
      "62.0    37948\n",
      "91.0    36998\n",
      "63.0    36179\n",
      "64.0    34214\n",
      "90.0    34000\n",
      "65.0    32296\n",
      "89.0    31183\n",
      "66.0    30267\n",
      "88.0    28765\n",
      "67.0    28366\n",
      "68.0    27064\n",
      "87.0    25910\n",
      "69.0    25564\n",
      "86.0    24625\n",
      "70.0    23962\n",
      "85.0    23157\n",
      "71.0    22589\n",
      "84.0    21865\n",
      "72.0    21851\n",
      "73.0    20839\n",
      "83.0    20086\n",
      "74.0    19751\n",
      "82.0    19334\n",
      "81.0    18823\n",
      "76.0    18768\n",
      "75.0    18720\n",
      "80.0    18611\n",
      "77.0    18144\n",
      "78.0    17974\n",
      "79.0    17720\n",
      "Name: normalizedTime, Length: 96, dtype: int64, 'normalizedDayTime': 3684.0    1073\n",
      "3688.0    1060\n",
      "3687.0    1060\n",
      "3686.0    1059\n",
      "3683.0    1056\n",
      "3685.0    1054\n",
      "3690.0    1043\n",
      "3682.0    1039\n",
      "3689.0    1037\n",
      "2917.0    1035\n",
      "3691.0    1030\n",
      "5028.0    1030\n",
      "5027.0    1028\n",
      "5783.0    1023\n",
      "3972.0    1021\n",
      "2919.0    1020\n",
      "3974.0    1018\n",
      "3975.0    1018\n",
      "3973.0    1018\n",
      "3681.0    1016\n",
      "5684.0    1015\n",
      "5032.0    1015\n",
      "3976.0    1015\n",
      "4338.0    1014\n",
      "5034.0    1014\n",
      "3971.0    1013\n",
      "5683.0    1013\n",
      "5031.0    1013\n",
      "5784.0    1013\n",
      "3668.0    1012\n",
      "          ... \n",
      "1999.0     253\n",
      "3243.0     253\n",
      "3245.0     252\n",
      "5261.0     252\n",
      "1227.0     252\n",
      "2091.0     251\n",
      "5452.0     251\n",
      "3343.0     251\n",
      "2571.0     251\n",
      "557.0      250\n",
      "3247.0     248\n",
      "5357.0     247\n",
      "5453.0     246\n",
      "2573.0     246\n",
      "1899.0     245\n",
      "1998.0     243\n",
      "2094.0     241\n",
      "559.0      240\n",
      "1685.0     240\n",
      "5454.0     238\n",
      "1231.0     238\n",
      "558.0      236\n",
      "1686.0     236\n",
      "2095.0     233\n",
      "1687.0     232\n",
      "1688.0     231\n",
      "1684.0     162\n",
      "1670.0      23\n",
      "1674.0       3\n",
      "1675.0       1\n",
      "Name: normalizedDayTime, Length: 5847, dtype: int64, 'Xcoord': 9.0     205074\n",
      "11.0    200358\n",
      "10.0    192127\n",
      "8.0     185852\n",
      "12.0    184161\n",
      "7.0     180653\n",
      "6.0     168882\n",
      "21.0    151447\n",
      "5.0     148580\n",
      "22.0    139145\n",
      "29.0    138224\n",
      "24.0    135228\n",
      "20.0    133186\n",
      "25.0    127530\n",
      "13.0    125779\n",
      "18.0    124526\n",
      "26.0    122213\n",
      "23.0    120153\n",
      "4.0     120046\n",
      "19.0    118389\n",
      "30.0    109785\n",
      "31.0    100394\n",
      "27.0     99041\n",
      "28.0     96414\n",
      "17.0     95651\n",
      "2.0      95023\n",
      "16.0     86435\n",
      "3.0      86042\n",
      "32.0     81918\n",
      "1.0      78205\n",
      "15.0     57851\n",
      "0.0      55179\n",
      "33.0     51560\n",
      "14.0     35367\n",
      "35.0     33408\n",
      "34.0     22495\n",
      "Name: Xcoord, dtype: int64, 'Ycoord': 26.0    152945\n",
      "25.0    151338\n",
      "23.0    145891\n",
      "24.0    141807\n",
      "27.0    141251\n",
      "28.0    138602\n",
      "30.0    136930\n",
      "36.0    133990\n",
      "29.0    133161\n",
      "15.0    132622\n",
      "21.0    131819\n",
      "22.0    131601\n",
      "20.0    127127\n",
      "19.0    125205\n",
      "14.0    123149\n",
      "13.0    121365\n",
      "18.0    121196\n",
      "31.0    117137\n",
      "16.0    116885\n",
      "17.0    115592\n",
      "35.0    115436\n",
      "34.0    108445\n",
      "37.0    108398\n",
      "33.0    105754\n",
      "32.0    103884\n",
      "39.0     87441\n",
      "38.0     85077\n",
      "12.0     75909\n",
      "40.0     74698\n",
      "42.0     67299\n",
      "41.0     64014\n",
      "45.0     60072\n",
      "43.0     57772\n",
      "7.0      53577\n",
      "11.0     51996\n",
      "44.0     50804\n",
      "10.0     47989\n",
      "6.0      47818\n",
      "8.0      43552\n",
      "5.0      42692\n",
      "9.0      31650\n",
      "4.0      31022\n",
      "3.0      21977\n",
      "2.0      13181\n",
      "1.0      10168\n",
      "0.0       6083\n",
      "Name: Ycoord, dtype: int64, 'dayOfWeek': 3    633567\n",
      "4    632786\n",
      "2    629281\n",
      "1    620418\n",
      "5    610482\n",
      "0    555733\n",
      "6    524054\n",
      "Name: dayOfWeek, dtype: int64}\n"
     ]
    }
   ],
   "source": [
    "col = dataset.shape[1]\n",
    "\n",
    "res = {col:dataset[col].value_counts() for col in dataset.columns}\n",
    "print(res)"
   ]
  },
  {
   "cell_type": "markdown",
   "metadata": {},
   "source": [
    "Check if there is any duplicated row but having a different demand data (eg: same day, time, geohash6 but with different demand)"
   ]
  },
  {
   "cell_type": "code",
   "execution_count": 57,
   "metadata": {},
   "outputs": [
    {
     "name": "stdout",
     "output_type": "stream",
     "text": [
      "Empty DataFrame\n",
      "Columns: [geohash6, day, timestamp, latitude, longitude, normalizedTime, normalizedDayTime, Xcoord, Ycoord, dayOfWeek]\n",
      "Index: []\n",
      "0\n"
     ]
    }
   ],
   "source": [
    "df = dataset.drop(columns=['demand'])\n",
    "duplicateRowsDF = df[df.duplicated()]\n",
    "print(duplicateRowsDF)\n",
    "print(len(duplicateRowsDF))"
   ]
  },
  {
   "cell_type": "markdown",
   "metadata": {},
   "source": [
    "To analyze the general pattern of demand over time, we will plot the demand of a geohash over the course of 61 days"
   ]
  },
  {
   "cell_type": "code",
   "execution_count": 61,
   "metadata": {},
   "outputs": [
    {
     "data": {
      "text/plain": [
       "<matplotlib.collections.PathCollection at 0x1adadfca710>"
      ]
     },
     "execution_count": 61,
     "metadata": {},
     "output_type": "execute_result"
    },
    {
     "data": {
      "image/png": "[encoded data removed]",
      "text/plain": [
       "<Figure size 432x288 with 1 Axes>"
      ]
     },
     "metadata": {},
     "output_type": "display_data"
    }
   ],
   "source": [
    "import matplotlib.pyplot as plt\n",
    "%matplotlib inline\n",
    "\n",
    "geo1 = dataset[(dataset[\"geohash6\"]==\"qp03wc\")]\n",
    "plt.title('Demand on qp03wc over 61 days')\n",
    "plt.xlabel('Normalized Day Time')\n",
    "plt.ylabel('Demand')\n",
    "plt.scatter(geo1[\"normalizedDayTime\"].values, geo1[\"demand\"].values, color = 'red')"
   ]
  },
  {
   "cell_type": "markdown",
   "metadata": {},
   "source": [
    "Plot the demand for that geohash over day 1"
   ]
  },
  {
   "cell_type": "code",
   "execution_count": 62,
   "metadata": {},
   "outputs": [
    {
     "data": {
      "text/plain": [
       "<matplotlib.collections.PathCollection at 0x1adae02bc18>"
      ]
     },
     "execution_count": 62,
     "metadata": {},
     "output_type": "execute_result"
    },
    {
     "data": {
      "image/png": "[encoded data removed]",
      "text/plain": [
       "<Figure size 432x288 with 1 Axes>"
      ]
     },
     "metadata": {},
     "output_type": "display_data"
    }
   ],
   "source": [
    "geo1 = dataset[(dataset[\"geohash6\"]==\"qp03wc\")]\n",
    "geo1day1 = geo1[(geo1[\"day\"].values == 1.0)]\n",
    "plt.title('Demand on qp03wc over day 1')\n",
    "plt.xlabel('Normalized Time')\n",
    "plt.ylabel('Demand')\n",
    "plt.scatter(geo1day1[\"normalizedTime\"].values, geo1day1[\"demand\"].values, color = 'red')"
   ]
  },
  {
   "cell_type": "markdown",
   "metadata": {},
   "source": [
    "Plot the demands for the same geohash over day 2, day 7, day 8, day 14 and day 15 to see if the plots follow any pattern for the same day of week (eg: monday, tuesday, etc...)"
   ]
  },
  {
   "cell_type": "code",
   "execution_count": 67,
   "metadata": {},
   "outputs": [
    {
     "data": {
      "image/png": "[encoded data removed]",
      "text/plain": [
       "<Figure size 432x288 with 6 Axes>"
      ]
     },
     "metadata": {},
     "output_type": "display_data"
    }
   ],
   "source": [
    "fig = plt.figure()\n",
    "\n",
    "geo1day1 = geo1[(geo1[\"day\"].values == 1.0)]\n",
    "ax = fig.add_subplot(6,1,1)\n",
    "ax.set_title('Demand on qp03wc over day 1')\n",
    "ax.scatter(geo1day1[\"normalizedTime\"].values, geo1day1[\"demand\"].values, color = 'red')\n",
    "\n",
    "geo1day2 = geo1[(geo1[\"day\"].values == 2.0)]\n",
    "ax = fig.add_subplot(6,1,2)\n",
    "ax.set_title('Demand on qp03wc over day 2')\n",
    "ax.scatter(geo1day2[\"normalizedTime\"].values, geo1day2[\"demand\"].values, color = 'red')\n",
    "\n",
    "geo1day7 = geo1[(geo1[\"day\"].values == 7.0)]\n",
    "ax = fig.add_subplot(6,1,3)\n",
    "ax.set_title('Demand on qp03wc over day 7')\n",
    "ax.scatter(geo1day7[\"normalizedTime\"].values, geo1day7[\"demand\"].values, color = 'red')\n",
    "\n",
    "geo1day8 = geo1[(geo1[\"day\"].values == 8.0)]\n",
    "ax = fig.add_subplot(6,1,4)\n",
    "ax.set_title('Demand on qp03wc over day 8')\n",
    "ax.scatter(geo1day8[\"normalizedTime\"].values, geo1day8[\"demand\"].values, color = 'red')\n",
    "\n",
    "geo1day14 = geo1[(geo1[\"day\"].values == 14.0)]\n",
    "ax = fig.add_subplot(6,1,5)\n",
    "ax.set_title('Demand on qp03wc over day 14')\n",
    "ax.scatter(geo1day14[\"normalizedTime\"].values, geo1day14[\"demand\"].values, color = 'red')\n",
    "\n",
    "geo1day15 = geo1[(geo1[\"day\"].values == 15.0)]\n",
    "ax = fig.add_subplot(6,1,6)\n",
    "ax.set_title('Demand on qp03wc over day 15')\n",
    "plt.scatter(geo1day15[\"normalizedTime\"].values, geo1day15[\"demand\"].values, color = 'red')\n",
    "\n",
    "plt.xlabel('Normalized Time')\n",
    "plt.ylabel('Demand')\n",
    "plt.show()"
   ]
  },
  {
   "cell_type": "markdown",
   "metadata": {},
   "source": [
    "Now we try to analyse the demand from a different point of view. Instead of plotting the demands of a specific geohash over time, we can also try to plot the demands of all geohash in 1 specific timestamp. We now plot the demands from day 1 time 00:00"
   ]
  },
  {
   "cell_type": "code",
   "execution_count": 71,
   "metadata": {},
   "outputs": [
    {
     "data": {
      "text/plain": [
       "<matplotlib.image.AxesImage at 0x1adb5503160>"
      ]
     },
     "execution_count": 71,
     "metadata": {},
     "output_type": "execute_result"
    },
    {
     "data": {
      "image/png": "[encoded data removed]",
      "text/plain": [
       "<Figure size 432x288 with 1 Axes>"
      ]
     },
     "metadata": {},
     "output_type": "display_data"
    }
   ],
   "source": [
    "d1t0 = np.zeros(shape=(int(dataset[\"Ycoord\"].values.max()+1),int(dataset[\"Xcoord\"].values.max()+1)))\n",
    "day1 = dataset[(dataset[\"day\"].values == 1)]\n",
    "day1time0 = day1[(day1[\"normalizedTime\"].values == 0)]\n",
    "for i in range(len(day1time0)):\n",
    "    X = day1time0[\"Xcoord\"].values[i]\n",
    "    Y = day1time0[\"Ycoord\"].values[i]\n",
    "    d1t0[int(Y)][int(X)] = day1time0[\"demand\"].values[i]\n",
    "\n",
    "fig = plt.figure()\n",
    "ax = fig.add_subplot(111)\n",
    "ax.set_title('Demand map of day 1 time 00:00')\n",
    "plt.xlabel('x')\n",
    "plt.ylabel('y')\n",
    "plt.imshow(d1t0)"
   ]
  },
  {
   "cell_type": "markdown",
   "metadata": {},
   "source": [
    "Plot demands from day 1 time 12:00"
   ]
  },
  {
   "cell_type": "code",
   "execution_count": 72,
   "metadata": {},
   "outputs": [
    {
     "data": {
      "text/plain": [
       "<matplotlib.image.AxesImage at 0x1adaf2e7978>"
      ]
     },
     "execution_count": 72,
     "metadata": {},
     "output_type": "execute_result"
    },
    {
     "data": {
      "image/png": "[encoded data removed]",
      "text/plain": [
       "<Figure size 432x288 with 1 Axes>"
      ]
     },
     "metadata": {},
     "output_type": "display_data"
    }
   ],
   "source": [
    "plot = np.zeros(shape=(int(dataset[\"Ycoord\"].values.max()+1),int(dataset[\"Xcoord\"].values.max()+1)))\n",
    "day1 = dataset[(dataset[\"day\"].values == 1)]\n",
    "day1time0 = day1[(day1[\"normalizedTime\"].values == 48)]\n",
    "for i in range(len(day1time0)):\n",
    "    X = day1time0[\"Xcoord\"].values[i]\n",
    "    Y = day1time0[\"Ycoord\"].values[i]\n",
    "    plot[int(Y)][int(X)] = day1time0[\"demand\"].values[i]\n",
    "\n",
    "fig = plt.figure()\n",
    "ax = fig.add_subplot(111)\n",
    "ax.set_title('Demand map of day 1 time 12:00')\n",
    "plt.xlabel('x')\n",
    "plt.ylabel('y')\n",
    "plt.imshow(plot)"
   ]
  },
  {
   "cell_type": "markdown",
   "metadata": {},
   "source": [
    "Plot demands from day 2 time 12:00"
   ]
  },
  {
   "cell_type": "code",
   "execution_count": 73,
   "metadata": {},
   "outputs": [
    {
     "data": {
      "text/plain": [
       "<matplotlib.image.AxesImage at 0x1adaf1b0dd8>"
      ]
     },
     "execution_count": 73,
     "metadata": {},
     "output_type": "execute_result"
    },
    {
     "data": {
      "image/png": "[encoded data removed]",
      "text/plain": [
       "<Figure size 432x288 with 1 Axes>"
      ]
     },
     "metadata": {},
     "output_type": "display_data"
    }
   ],
   "source": [
    "plot = np.zeros(shape=(int(dataset[\"Ycoord\"].values.max()+1),int(dataset[\"Xcoord\"].values.max()+1)))\n",
    "day1 = dataset[(dataset[\"day\"].values == 2)]\n",
    "day1time0 = day1[(day1[\"normalizedTime\"].values == 48)]\n",
    "for i in range(len(day1time0)):\n",
    "    X = day1time0[\"Xcoord\"].values[i]\n",
    "    Y = day1time0[\"Ycoord\"].values[i]\n",
    "    plot[int(Y)][int(X)] = day1time0[\"demand\"].values[i]\n",
    "\n",
    "fig = plt.figure()\n",
    "ax = fig.add_subplot(111)\n",
    "ax.set_title('Demand map of day 2 time 12:00')\n",
    "plt.xlabel('x')\n",
    "plt.ylabel('y')\n",
    "plt.imshow(plot)"
   ]
  },
  {
   "cell_type": "code",
   "execution_count": null,
   "metadata": {},
   "outputs": [],
   "source": []
  }
 ],
 "metadata": {
  "kernelspec": {
   "display_name": "Python 3",
   "language": "python",
   "name": "python3"
  },
  "language_info": {
   "codemirror_mode": {
    "name": "ipython",
    "version": 3
   },
   "file_extension": ".py",
   "mimetype": "text/x-python",
   "name": "python",
   "nbconvert_exporter": "python",
   "pygments_lexer": "ipython3",
   "version": "3.6.5"
  }
 },
 "nbformat": 4,
 "nbformat_minor": 2
}
